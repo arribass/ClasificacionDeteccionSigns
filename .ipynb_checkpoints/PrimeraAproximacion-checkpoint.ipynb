{
 "cells": [
  {
   "cell_type": "markdown",
   "metadata": {},
   "source": [
    "Imports necesarios para el notebook"
   ]
  },
  {
   "cell_type": "code",
   "execution_count": 1,
   "metadata": {},
   "outputs": [],
   "source": [
    "import cv2\n",
    "import numpy as np\n",
    "import os\n",
    "import glob\n",
    "from skimage.feature import hog"
   ]
  },
  {
   "cell_type": "markdown",
   "metadata": {},
   "source": [
    "Amplicacion rango dinamico de imagen "
   ]
  },
  {
   "cell_type": "code",
   "execution_count": 2,
   "metadata": {},
   "outputs": [],
   "source": [
    "def ampliacion_v1(imagen):\n",
    "    #Creamos imagen de salida\n",
    "    #No hace falta crear otra imagen\n",
    "    salida = np.zeros((imagen.shape[0],imagen.shape[1]))\n",
    "    a_low = np.min(imagen)\n",
    "    a_high = np.max(imagen)\n",
    "    filas,columnas = imagen.shape\n",
    "    for i in range(filas):\n",
    "        for j in range(columnas):\n",
    "            #TRANSFORMACION - Ampliacion del rango dinamico\n",
    "            salida[i,j] = ((imagen[i,j]-a_low)*(255-1))/(a_high-a_low)\n",
    "    return np.uint8(salida)"
   ]
  },
  {
   "cell_type": "code",
   "execution_count": 3,
   "metadata": {},
   "outputs": [],
   "source": [
    "imagen = cv2.imread('Dataset_traffic_sign/00006/00002_00029.png',0)\n",
    "imagen = ampliacion_v1(imagen)\n",
    "cv2.imshow('imagen_oscura',imagen)\n",
    "cv2.waitKey(0)\n",
    "cv2.destroyAllWindows()"
   ]
  },
  {
   "cell_type": "markdown",
   "metadata": {},
   "source": [
    "Leer directorios"
   ]
  },
  {
   "cell_type": "code",
   "execution_count": 4,
   "metadata": {},
   "outputs": [],
   "source": [
    "def leerCarpeta(carpeta):\n",
    "    \"\"\"\n",
    "    Lee una carpeta de emails\n",
    "    :param carpeta: nombre de la carpeta a leer\n",
    "    :return: lista de emails en la carpeta\n",
    "    \"\"\"\n",
    "    # Establecemos la ruta completa\n",
    "    path = 'datasets/spam/' + carpeta + '/*.txt'   \n",
    "    # Obtenemos la lista de ficheros en la carpeta\n",
    "    files = glob.glob(path)\n",
    "    textos = []\n",
    "    # Para cada fichero, lo leemos y lo añadimos a la lista\n",
    "    for name in files: \n",
    "        with open(name) as f: \n",
    "            textos.append(f.read())\n",
    "\n",
    "    print(\"Leidos \", len(textos), \" emails en \", path)\n",
    "    \n",
    "    return textos"
   ]
  },
  {
   "cell_type": "markdown",
   "metadata": {},
   "source": [
    "Unificar tamaños de imagen\n",
    "Para una sola carpeta en este caso"
   ]
  },
  {
   "cell_type": "code",
   "execution_count": 36,
   "metadata": {},
   "outputs": [
    {
     "name": "stdout",
     "output_type": "stream",
     "text": [
      "['00000_00029.png', '00001_00029.png', '00002_00029.png', '00003_00029.png', '00004_00029.png', '00005_00029.png']\n"
     ]
    }
   ],
   "source": [
    "path = 'Dataset_traffic_sign/00000'\n",
    "lenimages = os.listdir(path)\n",
    "tam = 100\n",
    "print(lenimages)\n",
    "imgs_path = []\n",
    "for i,im in enumerate(lenimages):\n",
    "    imgs_path.append(path+'/'+i)\n",
    "    imagen =cv2.imread(imgs_path)\n",
    "    imagen = cv2.resize(imagen,(tam,tam))\n",
    "    cv2.imshow(i,imagen)\n",
    "cv2.waitKey(0)\n",
    "cv2.destroyAllWindows()"
   ]
  },
  {
   "cell_type": "markdown",
   "metadata": {},
   "source": [
    "Usamos hog para extraer las caracteristicas de las imagenes y obtener los CSV \n",
    "\n",
    "Podemos hacer preprocesamiento mas adelante ahora sin el."
   ]
  },
  {
   "cell_type": "code",
   "execution_count": 35,
   "metadata": {},
   "outputs": [
    {
     "name": "stdout",
     "output_type": "stream",
     "text": [
      "(8100,)\n",
      "(8100,)\n",
      "(8100,)\n",
      "(8100,)\n",
      "(8100,)\n",
      "(8100,)\n"
     ]
    }
   ],
   "source": [
    "#Extraemos las caracteristicas de todas las imagenes de la primera carpeta\n",
    "img_features = []\n",
    "for i in os.listdir(path):\n",
    "    #Leemos una imagen de la carpeta\n",
    "    imgPath = os.path.join(path,i)\n",
    "    img = cv2.imread(imgPath)\n",
    "    img = cv2.resize(img,(tam,tam))\n",
    "    \n",
    "    #Extraemos las caracteristicas con hog\n",
    "    hog_img = hog(img)\n",
    "    img_features.append(hog_img)\n",
    "    print(hog_img.shape)\n",
    "\n",
    "img_features = np.array(img_features)\n",
    "# En img_features tenemos las caracteristicas de la imagen \n",
    "# Ahora creamos un csv a partir de el\n",
    "np.savetxt('csvs/clase1.csv',img_features,delimiter=',')"
   ]
  },
  {
   "cell_type": "markdown",
   "metadata": {},
   "source": [
    "A partir de los CSV obtenidos(1 por cada clase) --> 43 Creamos los diferentes conjuntos de train y test\n",
    "Para este ejemplo hemos calculado solo el hog de 6 imagenes"
   ]
  },
  {
   "cell_type": "code",
   "execution_count": null,
   "metadata": {},
   "outputs": [],
   "source": []
  }
 ],
 "metadata": {
  "kernelspec": {
   "display_name": "Python 3",
   "language": "python",
   "name": "python3"
  },
  "language_info": {
   "codemirror_mode": {
    "name": "ipython",
    "version": 3
   },
   "file_extension": ".py",
   "mimetype": "text/x-python",
   "name": "python",
   "nbconvert_exporter": "python",
   "pygments_lexer": "ipython3",
   "version": "3.8.5"
  }
 },
 "nbformat": 4,
 "nbformat_minor": 2
}
