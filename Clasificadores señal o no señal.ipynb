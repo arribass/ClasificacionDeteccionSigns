{
 "cells": [
  {
   "cell_type": "code",
   "execution_count": 1,
   "metadata": {},
   "outputs": [],
   "source": [
    "import numpy as np\n",
    "\n",
    "from sklearn.neural_network import MLPClassifier\n",
    "\n",
    "from sklearn import svm\n",
    "\n",
    "from sklearn import tree\n",
    "\n",
    "from sklearn.naive_bayes import MultinomialNB\n",
    "\n",
    "import cv2\n",
    "\n",
    "import time"
   ]
  },
  {
   "cell_type": "code",
   "execution_count": 2,
   "metadata": {},
   "outputs": [],
   "source": [
    "# Lee los datos y guárdalos en data\n",
    "data = np.load(\"dataset_detection/train_signs_detection.npy\")\n",
    "Xtrain = data[:, :-1]\n",
    "ytrain = data[:, -1].reshape(-1, 1)\n",
    "\n",
    "data = np.load(\"dataset_detection/test_signs_detection.npy\")\n",
    "Xtest = data[:, :-1]\n",
    "ytest = data[:, -1].reshape(-1, 1)"
   ]
  },
  {
   "cell_type": "code",
   "execution_count": 3,
   "metadata": {},
   "outputs": [
    {
     "name": "stderr",
     "output_type": "stream",
     "text": [
      "C:\\Users\\Arribas\\anaconda3\\envs\\py37aprendizaje\\lib\\site-packages\\sklearn\\utils\\validation.py:72: DataConversionWarning: A column-vector y was passed when a 1d array was expected. Please change the shape of y to (n_samples, ), for example using ravel().\n",
      "  return f(**kwargs)\n"
     ]
    },
    {
     "name": "stdout",
     "output_type": "stream",
     "text": [
      "Tiempo entrenamiento Red  Neuronal -> 0.34654784202575684\n"
     ]
    },
    {
     "name": "stderr",
     "output_type": "stream",
     "text": [
      "C:\\Users\\Arribas\\anaconda3\\envs\\py37aprendizaje\\lib\\site-packages\\sklearn\\utils\\validation.py:72: DataConversionWarning: A column-vector y was passed when a 1d array was expected. Please change the shape of y to (n_samples, ), for example using ravel().\n",
      "  return f(**kwargs)\n"
     ]
    },
    {
     "name": "stdout",
     "output_type": "stream",
     "text": [
      "Tiempo entrenamiento SVM -> 4.3678600788116455\n",
      "Tiempo entrenamiento Decision Tree -> 5.648303508758545\n",
      "Tiempo entrenamiento Multinomial Naive Bayes -> 0.01894974708557129\n"
     ]
    },
    {
     "name": "stderr",
     "output_type": "stream",
     "text": [
      "C:\\Users\\Arribas\\anaconda3\\envs\\py37aprendizaje\\lib\\site-packages\\sklearn\\utils\\validation.py:72: DataConversionWarning: A column-vector y was passed when a 1d array was expected. Please change the shape of y to (n_samples, ), for example using ravel().\n",
      "  return f(**kwargs)\n"
     ]
    }
   ],
   "source": [
    "#RED NEURONAL\n",
    "inicioRN = time.time()\n",
    "rn = MLPClassifier(solver='lbfgs', alpha=1e-5, hidden_layer_sizes=(5, 2), random_state=1)\n",
    "rn.fit(Xtrain, ytrain)\n",
    "print('Tiempo entrenamiento Red  Neuronal -> ' + str(time.time() - inicioRN))\n",
    "\n",
    "#SVM\n",
    "inicioSVM = time.time()\n",
    "clf = svm.SVC()\n",
    "clf.fit(Xtrain, ytrain)\n",
    "print('Tiempo entrenamiento SVM -> ' + str(time.time() - inicioSVM))\n",
    "\n",
    "#Decision Tree\n",
    "inicioDT = time.time()\n",
    "arbol = tree.DecisionTreeClassifier()\n",
    "arbol = arbol.fit(Xtrain, ytrain)\n",
    "print('Tiempo entrenamiento Decision Tree -> ' + str(time.time() - inicioDT))\n",
    "\n",
    "#Multinomial NB\n",
    "inicioMNB = time.time()\n",
    "NB = MultinomialNB()\n",
    "NB.fit(Xtrain, ytrain)\n",
    "print('Tiempo entrenamiento Multinomial Naive Bayes -> ' + str(time.time() - inicioMNB))"
   ]
  },
  {
   "cell_type": "code",
   "execution_count": 4,
   "metadata": {},
   "outputs": [
    {
     "name": "stdout",
     "output_type": "stream",
     "text": [
      "Tiempo clasificación Red  Neuronal -> 0.012966632843017578\n",
      "Porcentaje de aciertos con Red Neuronal del 100.0%\n",
      "Tiempo clasificación SVM -> 4.239226579666138\n",
      "Porcentaje de aciertos con SVM del 100.0%\n",
      "Tiempo clasificación Decision Tree -> 0.01995062828063965\n",
      "Porcentaje de aciertos con Decision Tree del 100.0%\n",
      "Tiempo clasificación Multinomial Naive Bayes -> 0.00994563102722168\n",
      "Porcentaje de aciertos con Naive Bayes Multinomial del 92.75603663613656%\n"
     ]
    }
   ],
   "source": [
    "#RED NEURONAL\n",
    "inicioRN = time.time()\n",
    "acc = rn.score(Xtest, ytest)\n",
    "print('Tiempo clasificación Red  Neuronal -> ' + str(time.time() - inicioRN))\n",
    "print('Porcentaje de aciertos con Red Neuronal del ' + str(acc*100) + '%')\n",
    "\n",
    "#SVM\n",
    "inicioSVM = time.time()\n",
    "acc2 = clf.score(Xtest, ytest)\n",
    "print('Tiempo clasificación SVM -> ' + str(time.time() - inicioSVM))\n",
    "print('Porcentaje de aciertos con SVM del ' + str(acc2*100) + '%')\n",
    "\n",
    "#Decision Tree\n",
    "inicioDT = time.time()\n",
    "acc3 = arbol.score(Xtest, ytest)\n",
    "print('Tiempo clasificación Decision Tree -> ' + str(time.time() - inicioDT))\n",
    "print('Porcentaje de aciertos con Decision Tree del ' + str(acc3*100) + '%')\n",
    "\n",
    "#Multinomial NB\n",
    "inicioMNB = time.time()\n",
    "acc4 = NB.score(Xtest, ytest)\n",
    "print('Tiempo clasificación Multinomial Naive Bayes -> ' + str(time.time() - inicioMNB))\n",
    "print('Porcentaje de aciertos con Naive Bayes Multinomial del ' + str(acc4*100) + '%')"
   ]
  },
  {
   "cell_type": "markdown",
   "metadata": {},
   "source": [
    "### Pruebas manuales"
   ]
  },
  {
   "cell_type": "code",
   "execution_count": 5,
   "metadata": {},
   "outputs": [],
   "source": [
    "from skimage.feature import hog"
   ]
  },
  {
   "cell_type": "code",
   "execution_count": 11,
   "metadata": {},
   "outputs": [
    {
     "name": "stdout",
     "output_type": "stream",
     "text": [
      "(100, 100)\n",
      "[0.]\n"
     ]
    }
   ],
   "source": [
    "imgSign = cv2.imread('prueba_recorte.jpg',0)\n",
    "imgSign = cv2.resize(imgSign,(100,100))\n",
    "print(imgSign.shape)\n",
    "print(NB.predict(hog(imgSign).reshape(1,-1)))\n",
    "cv2.imshow('Acierto',imgSign)\n",
    "cv2.waitKey(0)\n",
    "cv2.destroyAllWindows()"
   ]
  },
  {
   "cell_type": "code",
   "execution_count": 7,
   "metadata": {},
   "outputs": [
    {
     "data": {
      "text/plain": [
       "array([0.])"
      ]
     },
     "execution_count": 7,
     "metadata": {},
     "output_type": "execute_result"
    }
   ],
   "source": [
    "imgNonSign = cv2.imread('cropped_images/221.jpg',0)\n",
    "imgNonSign = cv2.resize(imgNonSign,(100,100))\n",
    "rn.predict(hog(imgNonSign).reshape(1,-1))"
   ]
  },
  {
   "cell_type": "code",
   "execution_count": 12,
   "metadata": {},
   "outputs": [
    {
     "data": {
      "text/plain": [
       "2422744"
      ]
     },
     "execution_count": 12,
     "metadata": {},
     "output_type": "execute_result"
    }
   ],
   "source": [
    "imgSign = cv2.imread('cropped_images/954.jpg',0)\n",
    "np.sum(imgSign)"
   ]
  },
  {
   "cell_type": "code",
   "execution_count": 23,
   "metadata": {},
   "outputs": [
    {
     "name": "stdout",
     "output_type": "stream",
     "text": [
      "248\n",
      "254\n",
      "254\n",
      "252\n",
      "72\n",
      "83\n",
      "185\n",
      "251\n",
      "79\n",
      "249\n",
      "251\n",
      "248\n",
      "244\n",
      "249\n",
      "61\n",
      "49\n",
      "245\n",
      "49\n",
      "37\n",
      "55\n",
      "57\n",
      "132\n"
     ]
    }
   ],
   "source": [
    "for i in range(1,23):\n",
    "    imgSign = cv2.imread('Acierto'+str(i)+'.png',0)\n",
    "    print(np.min(imgSign))"
   ]
  },
  {
   "cell_type": "code",
   "execution_count": 21,
   "metadata": {},
   "outputs": [
    {
     "name": "stdout",
     "output_type": "stream",
     "text": [
      "10\n",
      "23\n",
      "15\n",
      "22\n",
      "17\n",
      "43\n"
     ]
    }
   ],
   "source": [
    "import os\n",
    "for i in os.listdir('Dataset_traffic_sign/00000/'):\n",
    "    imgSign = cv2.imread('Dataset_traffic_sign/00000/'+i,0)\n",
    "    print(np.min(imgSign))"
   ]
  }
 ],
 "metadata": {
  "kernelspec": {
   "display_name": "Python 3",
   "language": "python",
   "name": "python3"
  },
  "language_info": {
   "codemirror_mode": {
    "name": "ipython",
    "version": 3
   },
   "file_extension": ".py",
   "mimetype": "text/x-python",
   "name": "python",
   "nbconvert_exporter": "python",
   "pygments_lexer": "ipython3",
   "version": "3.8.5"
  }
 },
 "nbformat": 4,
 "nbformat_minor": 2
}
