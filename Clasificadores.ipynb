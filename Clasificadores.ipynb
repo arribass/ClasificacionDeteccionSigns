{
 "cells": [
  {
   "cell_type": "markdown",
   "metadata": {},
   "source": [
    "### En este notebook vamos a probar diferentes clasificadores con los datos que hemos creado anteriormente. Se tendrá en cuanta para decidir el mejor tanto la precision como el tiempo de convergencia de la funcion de coste etc."
   ]
  },
  {
   "cell_type": "code",
   "execution_count": 1,
   "metadata": {},
   "outputs": [],
   "source": [
    "import numpy as np\n",
    "from sklearn import metrics"
   ]
  },
  {
   "cell_type": "markdown",
   "metadata": {},
   "source": [
    "Leemos los datos de train/test y creamos Xtrain/test y ytrain/test"
   ]
  },
  {
   "cell_type": "code",
   "execution_count": 2,
   "metadata": {},
   "outputs": [],
   "source": [
    "dataTrain = np.load('train_img_features.npy')\n",
    "Xtrain = dataTrain[:,:-1]\n",
    "ytrain = dataTrain[:,-1]\n",
    "\n",
    "dataTest = np.load('test_img_features.npy')\n",
    "Xtest = dataTest[:,:-1]\n",
    "ytest = dataTest[:,-1]"
   ]
  },
  {
   "cell_type": "markdown",
   "metadata": {},
   "source": [
    "### Regresion logistica"
   ]
  },
  {
   "cell_type": "code",
   "execution_count": 3,
   "metadata": {},
   "outputs": [],
   "source": [
    "from sklearn.linear_model import LogisticRegression\n",
    "clfLogRegr = LogisticRegression(random_state=0,max_iter=300).fit(Xtrain, ytrain)"
   ]
  },
  {
   "cell_type": "markdown",
   "metadata": {},
   "source": [
    "Probamos el clasificador de regresión logistica con los datos de test"
   ]
  },
  {
   "cell_type": "code",
   "execution_count": 4,
   "metadata": {},
   "outputs": [
    {
     "name": "stdout",
     "output_type": "stream",
     "text": [
      "La precision es 92.61\n"
     ]
    }
   ],
   "source": [
    "ypred = clfLogRegr.predict(Xtest)\n",
    "accuracyLogReg = round(metrics.accuracy_score(ypred,ytest)*100,2)\n",
    "print('La precision es {}'.format(accuracyLogReg))"
   ]
  },
  {
   "cell_type": "markdown",
   "metadata": {},
   "source": [
    "En el caso de la regresion logistica hemos tenido que aumentar el numero de iteraciones a 200 frente a las 100 que tiene por defecto para que hubiera covergencia debido al alto numero de caracteristicas de los datos."
   ]
  },
  {
   "cell_type": "markdown",
   "metadata": {},
   "source": [
    "Podemos comprobar que para el caso de la clase 0 tenemos 0% de acierto esto puede deberse a la poca cantidad de imagenes de entrenamiento y a la separacion al hacer train y test."
   ]
  },
  {
   "cell_type": "code",
   "execution_count": 5,
   "metadata": {},
   "outputs": [
    {
     "name": "stdout",
     "output_type": "stream",
     "text": [
      "[1.]\n",
      "[1.]\n"
     ]
    }
   ],
   "source": [
    "# Tomamos los 2 ejemplos de la clase 0 de test y comprobamos que el clasificador no acierta.\n",
    "print(clfLogRegr.predict(Xtest[0,:].reshape(1,-1)))\n",
    "print(clfLogRegr.predict(Xtest[1,:].reshape(1,-1)))"
   ]
  },
  {
   "cell_type": "markdown",
   "metadata": {},
   "source": [
    "### Naive Bayes"
   ]
  },
  {
   "cell_type": "code",
   "execution_count": 6,
   "metadata": {},
   "outputs": [
    {
     "data": {
      "text/plain": [
       "GaussianNB()"
      ]
     },
     "execution_count": 6,
     "metadata": {},
     "output_type": "execute_result"
    }
   ],
   "source": [
    "from sklearn.naive_bayes import GaussianNB\n",
    "clf = GaussianNB()\n",
    "clf.fit(Xtrain, ytrain)"
   ]
  },
  {
   "cell_type": "code",
   "execution_count": 7,
   "metadata": {},
   "outputs": [
    {
     "name": "stdout",
     "output_type": "stream",
     "text": [
      "La precision es 78.1\n"
     ]
    }
   ],
   "source": [
    "ypred = clf.predict(Xtest)\n",
    "accuracyGaussianNB = round(metrics.accuracy_score(ypred,ytest)*100,2)\n",
    "print('La precision es {}'.format(accuracyGaussianNB))"
   ]
  },
  {
   "cell_type": "markdown",
   "metadata": {},
   "source": [
    "Probamos tambien Naive Bayes multinomial"
   ]
  },
  {
   "cell_type": "code",
   "execution_count": 8,
   "metadata": {},
   "outputs": [
    {
     "data": {
      "text/plain": [
       "MultinomialNB()"
      ]
     },
     "execution_count": 8,
     "metadata": {},
     "output_type": "execute_result"
    }
   ],
   "source": [
    "from sklearn.naive_bayes import MultinomialNB\n",
    "clf = MultinomialNB()\n",
    "clf.fit(Xtrain,ytrain)"
   ]
  },
  {
   "cell_type": "code",
   "execution_count": 9,
   "metadata": {},
   "outputs": [
    {
     "name": "stdout",
     "output_type": "stream",
     "text": [
      "La precision es 77.31\n"
     ]
    }
   ],
   "source": [
    "ypred = clf.predict(Xtest)\n",
    "accuracyMNB = round(metrics.accuracy_score(ypred,ytest)*100,2)\n",
    "print('La precision es {}'.format(accuracyMNB))"
   ]
  },
  {
   "cell_type": "code",
   "execution_count": null,
   "metadata": {},
   "outputs": [],
   "source": []
  },
  {
   "cell_type": "markdown",
   "metadata": {},
   "source": [
    "### SVMs"
   ]
  },
  {
   "cell_type": "code",
   "execution_count": 10,
   "metadata": {},
   "outputs": [
    {
     "data": {
      "text/plain": [
       "SVC()"
      ]
     },
     "execution_count": 10,
     "metadata": {},
     "output_type": "execute_result"
    }
   ],
   "source": [
    "from sklearn import svm\n",
    "clf_SVM = svm.SVC()\n",
    "clf_SVM.fit(Xtrain, ytrain)"
   ]
  },
  {
   "cell_type": "code",
   "execution_count": 11,
   "metadata": {},
   "outputs": [],
   "source": [
    "ypred = clf_SVM.predict(Xtest)\n",
    "accuracySVM = round(metrics.accuracy_score(ypred,ytest)*100,2)\n",
    "print('La precision es {}'.format(accuracySVM))"
   ]
  }
 ],
 "metadata": {
  "kernelspec": {
   "display_name": "Python 3",
   "language": "python",
   "name": "python3"
  },
  "language_info": {
   "codemirror_mode": {
    "name": "ipython",
    "version": 3
   },
   "file_extension": ".py",
   "mimetype": "text/x-python",
   "name": "python",
   "nbconvert_exporter": "python",
   "pygments_lexer": "ipython3",
   "version": "3.8.5"
  }
 },
 "nbformat": 4,
 "nbformat_minor": 4
}
