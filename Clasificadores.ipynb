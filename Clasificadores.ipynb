{
 "cells": [
  {
   "cell_type": "markdown",
   "metadata": {},
   "source": [
    "### En este notebook vamos a probar diferentes clasificadores con los datos que hemos creado anteriormente. Se tendrá en cuanta para decidir el mejor tanto la precision como el tiempo de convergencia de la funcion de coste etc."
   ]
  },
  {
   "cell_type": "code",
   "execution_count": 5,
   "metadata": {},
   "outputs": [],
   "source": [
    "import numpy as np\n",
    "import pandas as pd\n",
    "from sklearn import metrics"
   ]
  },
  {
   "cell_type": "markdown",
   "metadata": {},
   "source": [
    "Leemos los datos de train/test y creamos Xtrain/test y ytrain/test"
   ]
  },
  {
   "cell_type": "code",
   "execution_count": 6,
   "metadata": {},
   "outputs": [],
   "source": [
    "dataTrain = np.load('train_img_features_non_processed.npy')\n",
    "Xtrain = dataTrain[:,:-1]\n",
    "ytrain = dataTrain[:,-1]\n",
    "\n",
    "dataTest = np.load('test_img_features_non_processed.npy')\n",
    "Xtest = dataTest[:,:-1]\n",
    "ytest = dataTest[:,-1]"
   ]
  },
  {
   "cell_type": "markdown",
   "metadata": {},
   "source": [
    "### Regresion logistica"
   ]
  },
  {
   "cell_type": "markdown",
   "metadata": {},
   "source": [
    "Probamos el clasificador de regresión logistica con los datos de test\n",
    "\n",
    "En el caso de la regresion logistica hemos tenido que aumentar el numero de iteraciones a 200 frente a las 100 que tiene por defecto para que hubiera covergencia debido al alto numero de caracteristicas de los datos."
   ]
  },
  {
   "cell_type": "code",
   "execution_count": 7,
   "metadata": {},
   "outputs": [
    {
     "data": {
      "text/plain": [
       "0.9296482412060302"
      ]
     },
     "execution_count": 7,
     "metadata": {},
     "output_type": "execute_result"
    }
   ],
   "source": [
    "from sklearn.linear_model import LogisticRegression\n",
    "clfLogRegr = LogisticRegression(random_state=0,max_iter=400).fit(Xtrain, ytrain)\n",
    "\n",
    "clfLogRegr.score(Xtest,ytest)"
   ]
  },
  {
   "cell_type": "markdown",
   "metadata": {},
   "source": [
    "### Naive Bayes"
   ]
  },
  {
   "cell_type": "code",
   "execution_count": 8,
   "metadata": {},
   "outputs": [
    {
     "data": {
      "text/plain": [
       "0.7160804020100503"
      ]
     },
     "execution_count": 8,
     "metadata": {},
     "output_type": "execute_result"
    }
   ],
   "source": [
    "from sklearn.naive_bayes import GaussianNB\n",
    "clf = GaussianNB()\n",
    "clf.fit(Xtrain, ytrain)\n",
    "clf.score(Xtest,ytest)"
   ]
  },
  {
   "cell_type": "markdown",
   "metadata": {},
   "source": [
    "Probamos tambien Naive Bayes multinomial"
   ]
  },
  {
   "cell_type": "code",
   "execution_count": 9,
   "metadata": {},
   "outputs": [
    {
     "data": {
      "text/plain": [
       "0.7311557788944724"
      ]
     },
     "execution_count": 9,
     "metadata": {},
     "output_type": "execute_result"
    }
   ],
   "source": [
    "from sklearn.naive_bayes import MultinomialNB\n",
    "clf = MultinomialNB()\n",
    "clf.fit(Xtrain,ytrain)\n",
    "clf.score(Xtest,ytest)"
   ]
  },
  {
   "cell_type": "markdown",
   "metadata": {},
   "source": [
    "### SVMs"
   ]
  },
  {
   "cell_type": "code",
   "execution_count": 10,
   "metadata": {},
   "outputs": [
    {
     "data": {
      "text/plain": [
       "0.8316582914572864"
      ]
     },
     "execution_count": 10,
     "metadata": {},
     "output_type": "execute_result"
    }
   ],
   "source": [
    "from sklearn import svm\n",
    "clf_SVM = svm.SVC()\n",
    "clf_SVM.fit(Xtrain, ytrain)\n",
    "clf_SVM.score(Xtest,ytest)"
   ]
  },
  {
   "cell_type": "markdown",
   "metadata": {},
   "source": [
    "### Probar un conjunto de clasificadores usando SKlearn"
   ]
  },
  {
   "cell_type": "code",
   "execution_count": 40,
   "metadata": {},
   "outputs": [
    {
     "name": "stdout",
     "output_type": "stream",
     "text": [
      "Entrenando non_processed con SVM\n",
      "Time elapsed on fit: 31.65\n",
      "Entrenando processed con SVM\n",
      "Time elapsed on fit: 28.86\n",
      "Entrenando non_processed con Regr logistica\n",
      "Time elapsed on fit: 8.88\n",
      "Entrenando processed con Regr logistica\n",
      "Time elapsed on fit: 8.91\n",
      "Entrenando non_processed con NB gaussiano\n",
      "Time elapsed on fit: 0.09\n",
      "Entrenando processed con NB gaussiano\n",
      "Time elapsed on fit: 0.09\n",
      "Entrenando non_processed con DecisionTree\n",
      "Time elapsed on fit: 9.25\n",
      "Entrenando processed con DecisionTree\n",
      "Time elapsed on fit: 8.8\n",
      "Entrenando non_processed con Red Neuronal\n",
      "Time elapsed on fit: 16.87\n",
      "Entrenando processed con Red Neuronal\n",
      "Time elapsed on fit: 17.09\n"
     ]
    }
   ],
   "source": [
    "from sklearn.svm import SVC\n",
    "from sklearn.linear_model import LogisticRegression\n",
    "from sklearn.naive_bayes import GaussianNB\n",
    "from sklearn.model_selection import GridSearchCV\n",
    "from sklearn.tree import DecisionTreeClassifier\n",
    "from sklearn.neural_network import MLPClassifier\n",
    "from sklearn.base import clone\n",
    "import time\n",
    "import matplotlib.pyplot as plt\n",
    "\n",
    "nombresDatasets = ['non_processed','processed']\n",
    "datasets = {}\n",
    "\n",
    "for nombre in nombresDatasets:\n",
    "    pathTrain = 'train_img_features_'+nombre+'.npy'\n",
    "    pathTest = 'test_img_features_'+nombre+'.npy'\n",
    "    \n",
    "    dataTrain_nonproc = np.load(pathTrain)\n",
    "    Xtrain = dataTrain[:,:-1]\n",
    "    ytrain = dataTrain[:,-1]\n",
    "    \n",
    "    dataTest_nonproc = np.load(pathTest)\n",
    "    Xtest = dataTest[:,:-1]\n",
    "    ytest = dataTest[:,-1]\n",
    "    \n",
    "    datasets[nombre] = (Xtrain,ytrain,Xtest,ytest)\n",
    "\n",
    "#Definimos un conjunto de clasificadores\n",
    "classifiers = [\n",
    "    SVC(),\n",
    "    LogisticRegression(random_state=0,max_iter=400),\n",
    "    GaussianNB(),\n",
    "    DecisionTreeClassifier(),\n",
    "    MLPClassifier()]\n",
    "\n",
    "clf_names = ['SVM', 'Regr logistica', 'NB gaussiano','DecisionTree','Red Neuronal']\n",
    "\n",
    "score_list = []\n",
    "time_list = []\n",
    "Best_score = np.NINF\n",
    "\n",
    "#Probamos los clasificadores\n",
    "for i,(clf_aux,clf_name) in enumerate(zip(classifiers,clf_names)):\n",
    "    for dataset in nombresDatasets:\n",
    "        clf = clone(clf_aux)\n",
    "        print('Entrenando {} con {}'.format(dataset,clf_name))\n",
    "        (Xtrain,ytrain,Xtest,ytest) = datasets[dataset]\n",
    "        t0 = time.time()\n",
    "        if 'SVM' in clf_name:\n",
    "            parameters = {'kernel':('linear', 'rbf'), 'C':[1, 10],'gamma':[0.1,0.001]}\n",
    "            clf = GridSearchCV(clf,parameters,cv = 2,n_jobs=5)\n",
    "        clf.fit(Xtrain,ytrain)\n",
    "        t1 = time.time()\n",
    "        \n",
    "        score = round(clf.score(Xtest,ytest)*100,2)\n",
    "        score_list.append(score)\n",
    "        if score > Best_score:\n",
    "            Best_score = score\n",
    "            Best_clf = dataset\n",
    "            nBest_clf = i\n",
    "        print('Time elapsed on fit: {}'.format(round(t1-t0,2)))"
   ]
  },
  {
   "cell_type": "code",
   "execution_count": 39,
   "metadata": {},
   "outputs": [
    {
     "data": {
      "image/png": "[encoded data removed]",
      "text/plain": [
       "<Figure size 720x504 with 1 Axes>"
      ]
     },
     "metadata": {
      "needs_background": "light"
     },
     "output_type": "display_data"
    },
    {
     "name": "stdout",
     "output_type": "stream",
     "text": [
      "El mejor clasificador ha sido: SVM con SVM non_processed\n",
      "La mejor puntuacion ha sido 93.97 en SVM\n"
     ]
    }
   ],
   "source": [
    "def autolabel(rects):\n",
    "    \"\"\"Attach a text label above each bar in *rects*, displaying its height.\"\"\"\n",
    "    for rect in rects:\n",
    "        height = rect.get_height()\n",
    "        ax.annotate('{}'.format(height),\n",
    "                    xy=(rect.get_x() + rect.get_width() / 2, height),\n",
    "                    xytext=(0, 3),  # 3 points vertical offset\n",
    "                    textcoords=\"offset points\",\n",
    "                    ha='center', va='bottom')\n",
    "        \n",
    "x = np.arange(len(clf_names))  # the label locations\n",
    "width = 0.35  # the width of the bars\n",
    "\n",
    "fig, ax = plt.subplots(figsize = (10,7))\n",
    "rects1 = ax.bar(x - width/2, score_list[::2], width, label='no procesado')\n",
    "rects2 = ax.bar(x + width/2, score_list[1::2], width, label='procesado')\n",
    "\n",
    "# Add some text for labels, title and custom x-axis tick labels, etc.\n",
    "ax.set_ylabel('Scores')\n",
    "ax.set_title('Resultados clasificadores')\n",
    "ax.set_xticks(x)\n",
    "ax.set_xticklabels(clf_names)\n",
    "ax.legend()\n",
    "\n",
    "autolabel(rects1)\n",
    "autolabel(rects2)\n",
    "if nBest_clf % 2 == 0:\n",
    "    rects2[nBest_clf].set_color('r')\n",
    "else:\n",
    "    rects1[nBest_clf].set_color('r')\n",
    "fig.tight_layout()\n",
    "\n",
    "plt.show()\n",
    "\n",
    "print('El mejor clasificador ha sido: {} en {}'.format(clf_names[nBest_clf],Best_clf))\n",
    "print('La mejor puntuacion ha sido {} en {}'.format(Best_score,clf_names[nBest_clf]))"
   ]
  },
  {
   "cell_type": "code",
   "execution_count": 16,
   "metadata": {},
   "outputs": [
    {
     "data": {
      "image/png": "[encoded data removed]",
      "text/plain": [
       "<Figure size 504x504 with 1 Axes>"
      ]
     },
     "metadata": {
      "needs_background": "light"
     },
     "output_type": "display_data"
    },
    {
     "name": "stdout",
     "output_type": "stream",
     "text": [
      "El mejor clasificador ha sido: SVM con {'C': 1, 'gamma': 0.1, 'kernel': 'linear'}\n",
      "La mejor puntuacion ha sido 93.96984924623115 en SVM\n"
     ]
    }
   ],
   "source": [
    "fig = plt.figure(figsize = (7,7))\n",
    "barlist = plt.bar(clf_names,score_list)\n",
    "barlist[nBest_clf].set_color('r')\n",
    "plt.show()\n",
    "print('El mejor clasificador ha sido: {} con {}'.format(clf_names[nBest_clf],Best_clf))\n",
    "print('La mejor puntuacion ha sido {} en {}'.format(Best_score,clf_names[nBest_clf]))"
   ]
  }
 ],
 "metadata": {
  "kernelspec": {
   "display_name": "Python 3",
   "language": "python",
   "name": "python3"
  },
  "language_info": {
   "codemirror_mode": {
    "name": "ipython",
    "version": 3
   },
   "file_extension": ".py",
   "mimetype": "text/x-python",
   "name": "python",
   "nbconvert_exporter": "python",
   "pygments_lexer": "ipython3",
   "version": "3.8.5"
  }
 },
 "nbformat": 4,
 "nbformat_minor": 4
}
