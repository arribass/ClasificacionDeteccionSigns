{
 "cells": [
  {
   "cell_type": "markdown",
   "metadata": {},
   "source": [
    "### En este notebook vamos a probar diferentes clasificadores con los datos que hemos creado anteriormente. Se tendrá en cuanta para decidir el mejor tanto la precision como el tiempo de convergencia de la funcion de coste etc."
   ]
  },
  {
   "cell_type": "code",
   "execution_count": 1,
   "metadata": {},
   "outputs": [],
   "source": [
    "import numpy as np\n",
    "import pandas as pd\n",
    "from sklearn import metrics"
   ]
  },
  {
   "cell_type": "markdown",
   "metadata": {},
   "source": [
    "Leemos los datos de train/test y creamos Xtrain/test y ytrain/test"
   ]
  },
  {
   "cell_type": "code",
   "execution_count": 2,
   "metadata": {},
   "outputs": [],
   "source": [
    "dataTrain = np.load('train_img_features_non_processed.npy')\n",
    "Xtrain = dataTrain[:,:-1]\n",
    "ytrain = dataTrain[:,-1]\n",
    "\n",
    "dataTest = np.load('test_img_features_non_processed.npy')\n",
    "Xtest = dataTest[:,:-1]\n",
    "ytest = dataTest[:,-1]"
   ]
  },
  {
   "cell_type": "markdown",
   "metadata": {},
   "source": [
    "### Regresion logistica"
   ]
  },
  {
   "cell_type": "markdown",
   "metadata": {},
   "source": [
    "Probamos el clasificador de regresión logistica con los datos de test"
   ]
  },
  {
   "cell_type": "code",
   "execution_count": null,
   "metadata": {},
   "outputs": [],
   "source": [
    "from sklearn.linear_model import LogisticRegression\n",
    "clfLogRegr = LogisticRegression(random_state=0,max_iter=400).fit(Xtrain, ytrain)\n",
    "\n",
    "clfLogRegr.score(Xtest,ytest)"
   ]
  },
  {
   "cell_type": "markdown",
   "metadata": {},
   "source": [
    "En el caso de la regresion logistica hemos tenido que aumentar el numero de iteraciones a 200 frente a las 100 que tiene por defecto para que hubiera covergencia debido al alto numero de caracteristicas de los datos."
   ]
  },
  {
   "cell_type": "markdown",
   "metadata": {},
   "source": [
    "### Naive Bayes"
   ]
  },
  {
   "cell_type": "code",
   "execution_count": null,
   "metadata": {},
   "outputs": [],
   "source": [
    "from sklearn.naive_bayes import GaussianNB\n",
    "clf = GaussianNB()\n",
    "clf.fit(Xtrain, ytrain)\n",
    "clf.score(Xtest,ytest)"
   ]
  },
  {
   "cell_type": "markdown",
   "metadata": {},
   "source": [
    "Probamos tambien Naive Bayes multinomial"
   ]
  },
  {
   "cell_type": "code",
   "execution_count": null,
   "metadata": {},
   "outputs": [],
   "source": [
    "from sklearn.naive_bayes import MultinomialNB\n",
    "clf = MultinomialNB()\n",
    "clf.fit(Xtrain,ytrain)\n",
    "clf.score(Xtest,ytest)"
   ]
  },
  {
   "cell_type": "markdown",
   "metadata": {},
   "source": [
    "### SVMs"
   ]
  },
  {
   "cell_type": "code",
   "execution_count": null,
   "metadata": {},
   "outputs": [],
   "source": [
    "from sklearn import svm\n",
    "clf_SVM = svm.SVC()\n",
    "clf_SVM.fit(Xtrain, ytrain)\n",
    "clf_SVM.score(Xtest,ytest)"
   ]
  },
  {
   "cell_type": "markdown",
   "metadata": {},
   "source": [
    "### Probar un conjunto de clasificadores usando SKlearn"
   ]
  },
  {
   "cell_type": "code",
   "execution_count": 18,
   "metadata": {},
   "outputs": [
    {
     "name": "stdout",
     "output_type": "stream",
     "text": [
      "Entrenando SVM\n",
      "Entrenando Regr logistica\n",
      "Entrenando NB gaussiano\n",
      "Entrenando DecisionTree\n",
      "Entrenando Red Neuronal\n"
     ]
    }
   ],
   "source": [
    "from sklearn.svm import SVC\n",
    "from sklearn.linear_model import LogisticRegression\n",
    "from sklearn.naive_bayes import GaussianNB\n",
    "from sklearn.model_selection import GridSearchCV\n",
    "from sklearn.tree import DecisionTreeClassifier\n",
    "from sklearn.neural_network import MLPClassifier\n",
    "\n",
    "import matplotlib.pyplot as plt\n",
    "\n",
    "#Leemos los datos\n",
    "dataTrain = np.load('train_img_features_non_processed.npy')\n",
    "Xtrain = dataTrain[:,:-1]\n",
    "ytrain = dataTrain[:,-1]\n",
    "\n",
    "dataTest = np.load('test_img_features_non_processed.npy')\n",
    "Xtest = dataTest[:,:-1]\n",
    "ytest = dataTest[:,-1]\n",
    "\n",
    "#Definimos un conjunto de clasificadores\n",
    "classifiers = [\n",
    "    SVC(),\n",
    "    LogisticRegression(random_state=0,max_iter=400),\n",
    "    GaussianNB(),\n",
    "    DecisionTreeClassifier(),\n",
    "    MLPClassifier()]\n",
    "\n",
    "clf_names = ['SVM', 'Regr logistica', 'NB gaussiano','DecisionTree','Red Neuronal']\n",
    "\n",
    "#Probamos los clasificadores\n",
    "score_list = []\n",
    "Best_score = np.NINF\n",
    "for i,(clf,name) in enumerate(zip(classifiers,clf_names)):\n",
    "    print('Entrenando {}'.format(name))\n",
    "    if 'SVM' in name:\n",
    "        parameters = {'kernel':('linear', 'rbf'), 'C':[1, 10],'gamma':[0.1,0.001]}\n",
    "        clf = GridSearchCV(clf,parameters,cv = 2)\n",
    "    clf.fit(Xtrain,ytrain)\n",
    "    score = clf.score(Xtest,ytest)*100\n",
    "    score_list.append(score)\n",
    "    if score > Best_score:\n",
    "        Best_score = score\n",
    "        Best_clf = clf.best_params_\n",
    "        nBest_clf = i"
   ]
  },
  {
   "cell_type": "code",
   "execution_count": 19,
   "metadata": {},
   "outputs": [
    {
     "data": {
      "image/png": "[encoded data removed]",
      "text/plain": [
       "<Figure size 504x504 with 1 Axes>"
      ]
     },
     "metadata": {
      "needs_background": "light"
     },
     "output_type": "display_data"
    },
    {
     "name": "stdout",
     "output_type": "stream",
     "text": [
      "El mejor clasificador ha sidoSVM con {'C': 1, 'gamma': 0.1, 'kernel': 'linear'}\n",
      "La mejor puntuacion ha sido 93.97 en SVM\n"
     ]
    }
   ],
   "source": [
    "fig = plt.figure(figsize = (7,7))\n",
    "barlist = plt.bar(clf_names,score_list)\n",
    "barlist[nBest_clf].set_color('r')\n",
    "plt.show()\n",
    "print('El mejor clasificador ha sido{} con {}'.format(clf_names[nBest_clf],Best_clf))\n",
    "print('La mejor puntuacion ha sido {} en {}'.format(round(Best_score,2),clf_names[nBest_clf]))"
   ]
  }
 ],
 "metadata": {
  "kernelspec": {
   "display_name": "Python 3",
   "language": "python",
   "name": "python3"
  },
  "language_info": {
   "codemirror_mode": {
    "name": "ipython",
    "version": 3
   },
   "file_extension": ".py",
   "mimetype": "text/x-python",
   "name": "python",
   "nbconvert_exporter": "python",
   "pygments_lexer": "ipython3",
   "version": "3.8.5"
  }
 },
 "nbformat": 4,
 "nbformat_minor": 4
}
