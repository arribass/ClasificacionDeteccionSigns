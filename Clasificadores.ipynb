{
 "cells": [
  {
   "cell_type": "markdown",
   "metadata": {},
   "source": [
    "### En este notebook vamos a probar diferentes clasificadores con los datos que hemos creado anteriormente. Se tendrá en cuanta para decidir el mejor tanto la precision como el tiempo de convergencia de la funcion de coste etc."
   ]
  },
  {
   "cell_type": "code",
   "execution_count": 1,
   "metadata": {},
   "outputs": [],
   "source": [
    "import numpy as np\n",
    "import pandas as pd\n",
    "from sklearn import metrics"
   ]
  },
  {
   "cell_type": "markdown",
   "metadata": {},
   "source": [
    "Leemos los datos de train/test y creamos Xtrain/test y ytrain/test"
   ]
  },
  {
   "cell_type": "code",
   "execution_count": null,
   "metadata": {},
   "outputs": [],
   "source": [
    "dataTrain = np.load('train_img_features_non_processed.npy')\n",
    "Xtrain = dataTrain[:,:-1]\n",
    "ytrain = dataTrain[:,-1]\n",
    "\n",
    "dataTest = np.load('test_img_features_non_processed.npy')\n",
    "Xtest = dataTest[:,:-1]\n",
    "ytest = dataTest[:,-1]"
   ]
  },
  {
   "cell_type": "markdown",
   "metadata": {},
   "source": [
    "### Regresion logistica"
   ]
  },
  {
   "cell_type": "markdown",
   "metadata": {},
   "source": [
    "Probamos el clasificador de regresión logistica con los datos de test\n",
    "\n",
    "En el caso de la regresion logistica hemos tenido que aumentar el numero de iteraciones a 200 frente a las 100 que tiene por defecto para que hubiera covergencia debido al alto numero de caracteristicas de los datos."
   ]
  },
  {
   "cell_type": "code",
   "execution_count": null,
   "metadata": {},
   "outputs": [],
   "source": [
    "from sklearn.linear_model import LogisticRegression\n",
    "clfLogRegr = LogisticRegression(random_state=0,max_iter=400).fit(Xtrain, ytrain)\n",
    "\n",
    "clfLogRegr.score(Xtest,ytest)"
   ]
  },
  {
   "cell_type": "markdown",
   "metadata": {},
   "source": [
    "### Naive Bayes"
   ]
  },
  {
   "cell_type": "code",
   "execution_count": null,
   "metadata": {},
   "outputs": [],
   "source": [
    "from sklearn.naive_bayes import GaussianNB\n",
    "clf = GaussianNB()\n",
    "clf.fit(Xtrain, ytrain)\n",
    "clf.score(Xtest,ytest)"
   ]
  },
  {
   "cell_type": "markdown",
   "metadata": {},
   "source": [
    "Probamos tambien Naive Bayes multinomial"
   ]
  },
  {
   "cell_type": "code",
   "execution_count": null,
   "metadata": {},
   "outputs": [],
   "source": [
    "from sklearn.naive_bayes import MultinomialNB\n",
    "clf = MultinomialNB()\n",
    "clf.fit(Xtrain,ytrain)\n",
    "clf.score(Xtest,ytest)"
   ]
  },
  {
   "cell_type": "markdown",
   "metadata": {},
   "source": [
    "### SVMs"
   ]
  },
  {
   "cell_type": "code",
   "execution_count": null,
   "metadata": {},
   "outputs": [],
   "source": [
    "from sklearn import svm\n",
    "clf_SVM = svm.SVC()\n",
    "clf_SVM.fit(Xtrain, ytrain)\n",
    "clf_SVM.score(Xtest,ytest)"
   ]
  },
  {
   "cell_type": "markdown",
   "metadata": {},
   "source": [
    "### Probar un conjunto de clasificadores usando SKlearn"
   ]
  },
  {
   "cell_type": "code",
   "execution_count": 11,
   "metadata": {},
   "outputs": [
    {
     "name": "stdout",
     "output_type": "stream",
     "text": [
      "Entrenando non_processed con SVM\n",
      "Time elapsed on fit: 27.42\n",
      "\n",
      "Entrenando processed con SVM\n",
      "Time elapsed on fit: 26.49\n",
      "\n",
      "Entrenando non_processed con Regr Logistica\n",
      "Time elapsed on fit: 43.1\n",
      "\n",
      "Entrenando processed con Regr Logistica\n",
      "Time elapsed on fit: 44.97\n",
      "\n",
      "Entrenando non_processed con NB Gaussiano\n",
      "Time elapsed on fit: 14.61\n",
      "\n",
      "Entrenando processed con NB Gaussiano\n",
      "Time elapsed on fit: 14.59\n",
      "\n",
      "Entrenando non_processed con Decision Tree\n",
      "Time elapsed on fit: 32.4\n",
      "\n",
      "Entrenando processed con Decision Tree\n",
      "Time elapsed on fit: 24.97\n",
      "\n",
      "Entrenando non_processed con Red Neuronal\n",
      "Time elapsed on fit: 82.91\n",
      "\n",
      "Entrenando processed con Red Neuronal\n",
      "Time elapsed on fit: 87.95\n",
      "\n",
      "Total time elapsed 399.42\n"
     ]
    }
   ],
   "source": [
    "from sklearn.svm import SVC\n",
    "from sklearn.linear_model import LogisticRegression\n",
    "from sklearn.naive_bayes import GaussianNB\n",
    "from sklearn.naive_bayes import MultinomialNB\n",
    "from sklearn.model_selection import GridSearchCV\n",
    "from sklearn.tree import DecisionTreeClassifier\n",
    "from sklearn.neural_network import MLPClassifier\n",
    "from sklearn.base import clone\n",
    "import time\n",
    "import matplotlib.pyplot as plt\n",
    "\n",
    "nombresDatasets = ['non_processed','processed']\n",
    "datasets = {}\n",
    "\n",
    "for nombre in nombresDatasets:\n",
    "    pathTrain = 'train_img_features_'+nombre+'.npy'\n",
    "    pathTest = 'test_img_features_'+nombre+'.npy'\n",
    "    \n",
    "    dataTrain = np.load(pathTrain)\n",
    "    Xtrain = dataTrain[:,:-1]\n",
    "    ytrain = dataTrain[:,-1]\n",
    "    \n",
    "    dataTest = np.load(pathTest)\n",
    "    Xtest = dataTest[:,:-1]\n",
    "    ytest = dataTest[:,-1]\n",
    "    \n",
    "    datasets[nombre] = (Xtrain,ytrain,Xtest,ytest)\n",
    "\n",
    "#Definimos un conjunto de clasificadores\n",
    "classifiers = [\n",
    "    SVC(),\n",
    "    LogisticRegression(random_state=0,max_iter=400),\n",
    "    GaussianNB(),\n",
    "    DecisionTreeClassifier(),\n",
    "    MLPClassifier()]\n",
    "\n",
    "clf_names = ['SVM', 'Regr Logistica', 'NB Gaussiano','Decision Tree','Red Neuronal']\n",
    "\n",
    "score_list = []\n",
    "time_list = []\n",
    "aux_params = []\n",
    "Best_score = np.NINF\n",
    "\n",
    "#Definimos un diccionario con diccionarios para los parametergrids de GridSearchCV\n",
    "parameters_dict = {'SVM':{'kernel':('linear', 'rbf'), 'C':[1, 10],'gamma':[0.1,0.001]},\n",
    "                    'Regr Logistica':{'C': [0.01, 1, 10, 1000] },\n",
    "                    'NB Gaussiano':{'var_smoothing': np.logspace(0,-9, num=10)},\n",
    "                    'Decision Tree':{'min_samples_split': [2, 3, 4],\n",
    "                                     'criterion': ['gini', 'entropy']},\n",
    "                    'Red Neuronal':{'activation': ['tanh', 'relu'],\n",
    "                                    'solver': ['sgd', 'adam']}\n",
    "                  }\n",
    "#Probamos los clasificadores\n",
    "for i,(clf_aux,clf_name) in enumerate(zip(classifiers,clf_names)):\n",
    "    for j,dataset in enumerate(nombresDatasets):\n",
    "        #Clonamos el clasificador ya que lo vamos a usar 2 veces\n",
    "        clf = clone(clf_aux)\n",
    "        \n",
    "        #Extraemos los datos de train y test\n",
    "        print('Entrenando {} con {}'.format(dataset,clf_name))\n",
    "        (Xtrain,ytrain,Xtest,ytest) = datasets[dataset]\n",
    "        \n",
    "        #Calculamos los parametros optimos con GridSearchCV\n",
    "        t0 = time.time()\n",
    "        clf = GridSearchCV(clf,parameters_dict[clf_name],cv = 2,n_jobs=10)\n",
    "        clf.fit(Xtrain,ytrain)\n",
    "        t1 = time.time()\n",
    "        time_list.append(t1-t0)\n",
    "        \n",
    "        #Calculamos la precision, la guardamos y vemos si hemos mejorado\n",
    "        score = round(clf.score(Xtest,ytest)*100,2)\n",
    "        score_list.append(score)\n",
    "        aux_params.append(clf.best_params_)\n",
    "        if score >= Best_score:\n",
    "            Best_score = score\n",
    "            Best_dataset = dataset\n",
    "            Best_clf = clf\n",
    "            nBest_clf = i*2 +j\n",
    "        print('Time elapsed on fit: {}\\n'.format(round(t1-t0,2)))\n",
    "print('Total time elapsed {}'.format(round(np.sum(time_list),2)))"
   ]
  },
  {
   "cell_type": "code",
   "execution_count": 12,
   "metadata": {},
   "outputs": [
    {
     "name": "stdout",
     "output_type": "stream",
     "text": [
      "[93.22, 92.46, 93.97, 94.22, 86.93, 88.19, 70.1, 65.33, 93.22, 92.46]\n",
      "3\n"
     ]
    },
    {
     "data": {
      "image/png": "[encoded data removed]",
      "text/plain": [
       "<Figure size 720x504 with 1 Axes>"
      ]
     },
     "metadata": {
      "needs_background": "light"
     },
     "output_type": "display_data"
    },
    {
     "name": "stdout",
     "output_type": "stream",
     "text": [
      "El mejor clasificador ha sido: Regr Logistica en processed\n",
      "La mejor puntuacion ha sido 94.22 en Regr Logistica\n"
     ]
    }
   ],
   "source": [
    "def autolabel(rects):\n",
    "    \"\"\"Attach a text label above each bar in *rects*, displaying its height.\"\"\"\n",
    "    for rect in rects:\n",
    "        height = rect.get_height()\n",
    "        ax.annotate('{}'.format(height),\n",
    "                    xy=(rect.get_x() + rect.get_width() / 2, height),\n",
    "                    xytext=(0, 3),  # 3 points vertical offset\n",
    "                    textcoords=\"offset points\",\n",
    "                    ha='center', va='bottom')\n",
    "        \n",
    "x = np.arange(len(clf_names))  # the label locations\n",
    "width = 0.35  # the width of the bars\n",
    "\n",
    "fig, ax = plt.subplots(figsize = (10,7))\n",
    "rects1 = ax.bar(x - width/2, score_list[::2], width, label='no procesado',edgecolor='k')\n",
    "rects2 = ax.bar(x + width/2, score_list[1::2], width, label='procesado',edgecolor='k')\n",
    "\n",
    "# Add some text for labels, title and custom x-axis tick labels, etc.\n",
    "ax.set_ylabel('Scores')\n",
    "ax.set_title('Resultados clasificadores')\n",
    "ax.set_xticks(x)\n",
    "ax.set_xticklabels(clf_names)\n",
    "ax.legend()\n",
    "\n",
    "autolabel(rects1)\n",
    "autolabel(rects2)\n",
    "print(score_list)\n",
    "print(nBest_clf)\n",
    "i_clf = int(nBest_clf/2)\n",
    "if nBest_clf % 2 == 0:\n",
    "    rects1[i_clf].set_color('r')\n",
    "    rects1[i_clf].set_edgecolor('k')\n",
    "else:\n",
    "    if score_list[i_clf] == score_list[i_clf-1]:\n",
    "        rects1[i_clf].set_color('r')\n",
    "        rects2[i_clf].set_color('r')\n",
    "        rects1[i_clf].set_edgecolor('k')\n",
    "        rects2[i_clf].set_edgecolor('k')\n",
    "    else:\n",
    "        rects2[i_clf].set_color('r')\n",
    "        rects2[i_clf].set_edgecolor('k')\n",
    "fig.tight_layout()\n",
    "\n",
    "plt.show()\n",
    "\n",
    "print('El mejor clasificador ha sido: {} en {}'.format(clf_names[i_clf],Best_dataset))\n",
    "print('La mejor puntuacion ha sido {} en {}'.format(Best_score,clf_names[i_clf]))"
   ]
  },
  {
   "cell_type": "code",
   "execution_count": 16,
   "metadata": {},
   "outputs": [],
   "source": [
    "#Graficas de tiempo"
   ]
  },
  {
   "cell_type": "code",
   "execution_count": 15,
   "metadata": {},
   "outputs": [],
   "source": [
    "aux_params\n",
    "import pickle\n",
    "# save the classifier\n",
    "with open('signclassifier.pkl', 'wb') as f:\n",
    "    pickle.dump(Best_clf, f)  "
   ]
  }
 ],
 "metadata": {
  "kernelspec": {
   "display_name": "Python 3",
   "language": "python",
   "name": "python3"
  },
  "language_info": {
   "codemirror_mode": {
    "name": "ipython",
    "version": 3
   },
   "file_extension": ".py",
   "mimetype": "text/x-python",
   "name": "python",
   "nbconvert_exporter": "python",
   "pygments_lexer": "ipython3",
   "version": "3.8.5"
  }
 },
 "nbformat": 4,
 "nbformat_minor": 4
}
