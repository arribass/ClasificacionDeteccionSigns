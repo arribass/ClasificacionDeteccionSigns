{
 "cells": [
  {
   "cell_type": "code",
   "execution_count": 11,
   "metadata": {},
   "outputs": [],
   "source": [
    "import numpy as np\n",
    "import cv2\n",
    "from sklearn import metrics\n",
    "from sklearn.linear_model import LogisticRegression\n",
    "from skimage.feature import hog"
   ]
  },
  {
   "cell_type": "code",
   "execution_count": 6,
   "metadata": {},
   "outputs": [],
   "source": [
    "dataTrain = np.load('train_img_features.npy')\n",
    "Xtrain = dataTrain[:,:-1]\n",
    "ytrain = dataTrain[:,-1]\n",
    "\n",
    "dataTest = np.load('test_img_features.npy')\n",
    "Xtest = dataTest[:,:-1]\n",
    "ytest = dataTest[:,-1]\n",
    "clfLogRegr = LogisticRegression(random_state=0,max_iter=300).fit(Xtrain, ytrain)"
   ]
  },
  {
   "cell_type": "code",
   "execution_count": 38,
   "metadata": {},
   "outputs": [],
   "source": [
    "ruta = 'Dataset_traffic_sign/00000/00000_00029.png'\n",
    "img = cv2.imread(ruta)\n",
    "cv2.imshow('Imagen prueba',img)\n",
    "cv2.waitKey(0)\n",
    "cv2.destroyAllWindows()"
   ]
  },
  {
   "cell_type": "code",
   "execution_count": 39,
   "metadata": {},
   "outputs": [
    {
     "data": {
      "text/plain": [
       "array([1.])"
      ]
     },
     "execution_count": 39,
     "metadata": {},
     "output_type": "execute_result"
    }
   ],
   "source": [
    "img = cv2.resize(img,(100,100))\n",
    "sample = hog(img).reshape(1,-1)\n",
    "clfLogRegr.predict(sample)"
   ]
  }
 ],
 "metadata": {
  "kernelspec": {
   "display_name": "Python 3",
   "language": "python",
   "name": "python3"
  },
  "language_info": {
   "codemirror_mode": {
    "name": "ipython",
    "version": 3
   },
   "file_extension": ".py",
   "mimetype": "text/x-python",
   "name": "python",
   "nbconvert_exporter": "python",
   "pygments_lexer": "ipython3",
   "version": "3.8.5"
  }
 },
 "nbformat": 4,
 "nbformat_minor": 4
}
