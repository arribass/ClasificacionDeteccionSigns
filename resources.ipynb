{
 "cells": [
  {
   "cell_type": "code",
   "execution_count": 1,
   "metadata": {},
   "outputs": [],
   "source": [
    "import cv2\n",
    "import numpy as np\n",
    "import os\n",
    "import random"
   ]
  },
  {
   "cell_type": "code",
   "execution_count": 50,
   "metadata": {},
   "outputs": [
    {
     "name": "stdout",
     "output_type": "stream",
     "text": [
      "(100, 4400, 3)\n"
     ]
    }
   ],
   "source": [
    "#Construir imagen de señales\n",
    "carpetas = os.listdir('Dataset_traffic_sign/')\n",
    "prueba = cv2.imread('Dataset_traffic_sign/00000/00000_00029.png')\n",
    "arrImagenes = cv2.resize(prueba,(100,100))\n",
    "for i in carpetas:\n",
    "    rutaImg = 'Dataset_traffic_sign/'+i\n",
    "    imagenes = os.listdir(rutaImg)\n",
    "    imagen = cv2.imread(rutaImg+'/'+random.choice(imagenes))\n",
    "    imagen = cv2.resize(imagen,(100,100),interpolation = cv2.INTER_AREA)\n",
    "    arrImagenes = np.hstack((arrImagenes,imagen))\n",
    "print(arrImagenes.shape)\n",
    "cv2.imshow(\"Prueba\",arrImagenes)\n",
    "cv2.waitKey(0)\n",
    "cv2.destroyAllWindows()"
   ]
  },
  {
   "cell_type": "code",
   "execution_count": 45,
   "metadata": {},
   "outputs": [
    {
     "name": "stdout",
     "output_type": "stream",
     "text": [
      "(100, 4400, 3)\n"
     ]
    }
   ],
   "source": [
    "# print(arrImagenes[:,100:].shape)\n",
    "print(arrImagenes.shape)\n",
    "cv2.imshow(\"Prueba\",arrImagenes)\n",
    "cv2.waitKey(0)\n",
    "cv2.destroyAllWindows()"
   ]
  }
 ],
 "metadata": {
  "kernelspec": {
   "display_name": "Python 3",
   "language": "python",
   "name": "python3"
  },
  "language_info": {
   "codemirror_mode": {
    "name": "ipython",
    "version": 3
   },
   "file_extension": ".py",
   "mimetype": "text/x-python",
   "name": "python",
   "nbconvert_exporter": "python",
   "pygments_lexer": "ipython3",
   "version": "3.8.5"
  }
 },
 "nbformat": 4,
 "nbformat_minor": 4
}
