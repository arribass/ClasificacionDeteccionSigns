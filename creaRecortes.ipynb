{
 "cells": [
  {
   "cell_type": "code",
   "execution_count": 7,
   "metadata": {},
   "outputs": [],
   "source": [
    "import cv2\n",
    "import numpy as np\n",
    "import os\n",
    "import pathlib"
   ]
  },
  {
   "cell_type": "code",
   "execution_count": 22,
   "metadata": {},
   "outputs": [],
   "source": [
    "def creaRecortes(recortesPorImagen,delete = 'yes'):\n",
    "    nRecorte = 0\n",
    "    ruta = 'Dataset_images/'\n",
    "\n",
    "    for i,im_path in enumerate(os.listdir(ruta)):\n",
    "        imagen = cv2.imread(ruta+im_path, 0)\n",
    "        for j in range(0,5):\n",
    "            f,c = imagen.shape #800 y 1360\n",
    "            rf = np.random.randint(f-99) #Valor aleatorio de fila\n",
    "            rc = np.random.randint(c-99) #Valor aleatorio de columna\n",
    "            \n",
    "            # rf,rc es el píxel inicial del recorte\n",
    "            recorte = imagen[rf:rf+100, rc:rc+100]\n",
    "            pathlib.Path('cropped_images/').mkdir(parents=True, exist_ok=True) \n",
    "            cv2.imwrite('cropped_images/' + str(nRecorte) + '.jpg', recorte)\n",
    "            nRecorte += 1"
   ]
  },
  {
   "cell_type": "code",
   "execution_count": 23,
   "metadata": {},
   "outputs": [],
   "source": [
    "creaRecortes(5)"
   ]
  }
 ],
 "metadata": {
  "kernelspec": {
   "display_name": "Python 3",
   "language": "python",
   "name": "python3"
  },
  "language_info": {
   "codemirror_mode": {
    "name": "ipython",
    "version": 3
   },
   "file_extension": ".py",
   "mimetype": "text/x-python",
   "name": "python",
   "nbconvert_exporter": "python",
   "pygments_lexer": "ipython3",
   "version": "3.8.5"
  }
 },
 "nbformat": 4,
 "nbformat_minor": 2
}
