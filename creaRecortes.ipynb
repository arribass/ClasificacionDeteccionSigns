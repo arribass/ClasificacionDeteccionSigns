{
 "cells": [
  {
   "cell_type": "code",
   "execution_count": 2,
   "metadata": {},
   "outputs": [],
   "source": [
    "import cv2\n",
    "import numpy as np"
   ]
  },
  {
   "cell_type": "code",
   "execution_count": 1,
   "metadata": {},
   "outputs": [],
   "source": [
    "def creaRecortes(recortesPorImagen):\n",
    "    nRecorte = 0\n",
    "    ruta = 'Dataset_images/000'\n",
    "    for i in range(0,100):\n",
    "        if (i < 10):\n",
    "            n = '0' + str(i)\n",
    "        else:\n",
    "            n = str(i)\n",
    "        imagen = cv2.imread(ruta + n + '.jpg', 0)\n",
    "        \n",
    "        naux = nRecorte + recortesPorImagen\n",
    "        while(nRecorte < naux): #Itero 5 veces\n",
    "            f,c = imagen.shape #800 y 1360\n",
    "            rf = np.random.randint(f-99) #Valor aleatorio de fila\n",
    "            rc = np.random.randint(c-99) #Valor aleatorio de columna\n",
    "            \n",
    "            # rf,rc es el píxel inicial del recorte\n",
    "            \n",
    "            recorte = imagen[rf:rf+100, rc:rc+100]\n",
    "            cv2.imwrite('Recortes/' + str(nRecorte) + '.jpg', recorte)\n",
    "            nRecorte = nRecorte + 1"
   ]
  },
  {
   "cell_type": "code",
   "execution_count": 3,
   "metadata": {},
   "outputs": [],
   "source": [
    "creaRecortes(5)"
   ]
  }
 ],
 "metadata": {
  "kernelspec": {
   "display_name": "Python 3",
   "language": "python",
   "name": "python3"
  },
  "language_info": {
   "codemirror_mode": {
    "name": "ipython",
    "version": 3
   },
   "file_extension": ".py",
   "mimetype": "text/x-python",
   "name": "python",
   "nbconvert_exporter": "python",
   "pygments_lexer": "ipython3",
   "version": "3.7.4"
  }
 },
 "nbformat": 4,
 "nbformat_minor": 2
}
