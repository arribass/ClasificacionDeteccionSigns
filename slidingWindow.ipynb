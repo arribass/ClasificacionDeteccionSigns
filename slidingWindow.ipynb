{
 "cells": [
  {
   "cell_type": "code",
   "execution_count": 4,
   "metadata": {},
   "outputs": [],
   "source": [
    "import imutils\n",
    "import argparse\n",
    "import cv2\n",
    "import time\n",
    "\n",
    "\n",
    "\n",
    "def pyramid(image, scale=1.5, min_size=(30, 30)):\n",
    "    \"\"\"\n",
    "    Genera imágenes sucesivamente más pequeñas con base a los parámetros proporcionados.\n",
    "    :param image: Imagen base.\n",
    "    :param scale: Factor de reducción de cada nivel de la pirámide.\n",
    "    :param min_size: Dimensiones mínimas que debe tener un nivel de la pirámide.\n",
    "    :return: Un nuevo nivel de la pirámide en cada llamada.\n",
    "    \"\"\"\n",
    "    yield image  # El primer de la pirámide será la imagen original.\n",
    "\n",
    "    while True:\n",
    "        # Reducimos el ancho de la imagen con base a `scale`, y luego la\n",
    "        # redimensionamos manteniendo la relación de aspecto.\n",
    "        width = int(image.shape[1] / scale)\n",
    "        image = imutils.resize(image, width=width)\n",
    "\n",
    "        # Si el resultado es una imagen más pequeña de lo esperada, paramos.\n",
    "        if image.shape[0] < min_size[1] or image.shape[1] < min_size[0]:\n",
    "            break\n",
    "\n",
    "        # Retorna el siguiente nivel de la pirámide.\n",
    "        yield image\n",
    "\n",
    "\n",
    "def sliding_window(image, step_size, window_size):\n",
    "    \"\"\"\n",
    "    Genera ventanas de tamaño `window_size` hasta haber recorrido toda la imagen.\n",
    "    :param image: Imagen sobre la cual generar ventanas.\n",
    "    :param step_size: Número de píxeles que nos moveremos en cada dirección.\n",
    "    :param window_size: Dimensiones de la ventana deslizante.\n",
    "    :return: Coordenadas (x, y) de la esquina superior izquierda de la ventana, y la región como tal.\n",
    "    \"\"\"\n",
    "    for y in range(0, image.shape[0], step_size):\n",
    "        for x in range(0, image.shape[1], step_size):\n",
    "            yield x, y, image[y:y + window_size[1], x:x + window_size[0]]"
   ]
  },
  {
   "cell_type": "code",
   "execution_count": 10,
   "metadata": {},
   "outputs": [
    {
     "name": "stdout",
     "output_type": "stream",
     "text": [
      "Dimensiones: (800, 1360, 3)\n",
      "Dimensiones: (532, 906, 3)\n",
      "Dimensiones: (354, 604, 3)\n",
      "Dimensiones: (235, 402, 3)\n",
      "Dimensiones: (156, 268, 3)\n",
      "Dimensiones: (103, 178, 3)\n",
      "Dimensiones: (68, 118, 3)\n",
      "Dimensiones: (44, 78, 3)\n"
     ]
    }
   ],
   "source": [
    "#Test de la pirámide de imágenes\n",
    "\n",
    "# Leemos la imagen.\n",
    "image = cv2.imread('Dataset_images/00001.jpg')\n",
    "\n",
    "# Generamos y enumeramos cada nivel de la pirámide.\n",
    "for index, level in enumerate(pyramid(image, scale=1.5)):\n",
    "    # Mostramos el nivel actual.\n",
    "    cv2.imshow(f'Nivel {index + 1}', level)\n",
    "    print(f'Dimensiones: {level.shape}')\n",
    "    cv2.waitKey(0)"
   ]
  },
  {
   "cell_type": "code",
   "execution_count": 5,
   "metadata": {},
   "outputs": [],
   "source": [
    "#Test de la ventana deslizante\n",
    "\n",
    "# Cargamos la imagen en memoria.\n",
    "image = cv2.imread('Dataset_images/00001.jpg')\n",
    "\n",
    "\n",
    "#Iteramos cada nivel/imagen de la pirámide\n",
    "for index, layer in enumerate(pyramid(image, scale=1.5)):\n",
    "    # ... y en cada uno deslizaremos una ventana con las proporciones especificadas, moviéndonos 32 píxeles a la vez.\n",
    "    for x, y, window in sliding_window(layer, step_size=32, window_size=(100, 100)):\n",
    "        # Si la ventana actual no cumple con el tamaño deseado, la ignoramos.\n",
    "        if window.shape[0] != 100 or window.shape[1] != 100:\n",
    "            continue\n",
    "\n",
    "        # AQUÍ ES DONDE APLICARÍAMOS EL CLASIFICADOR DE MACHINE LEARNING. SIN EMBARGO, COMO NO TENEMOS\n",
    "        # NINGUNO AÚN, PINTAREMOS LA VENTANA EN LA IMAGEN.\n",
    "        clone = layer.copy()\n",
    "        cv2.rectangle(clone, (x, y), (x + 100, y + 100), (0, 255, 0), 2)\n",
    "        cv2.imshow('Ventana', clone)\n",
    "\n",
    "        cv2.waitKey(1)\n",
    "        time.sleep(0.025)\n"
   ]
  }
 ],
 "metadata": {
  "kernelspec": {
   "display_name": "Python 3",
   "language": "python",
   "name": "python3"
  },
  "language_info": {
   "codemirror_mode": {
    "name": "ipython",
    "version": 3
   },
   "file_extension": ".py",
   "mimetype": "text/x-python",
   "name": "python",
   "nbconvert_exporter": "python",
   "pygments_lexer": "ipython3",
   "version": "3.8.3"
  }
 },
 "nbformat": 4,
 "nbformat_minor": 2
}
