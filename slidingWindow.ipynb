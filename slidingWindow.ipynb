{
 "cells": [
  {
   "cell_type": "code",
   "execution_count": 81,
   "metadata": {},
   "outputs": [
    {
     "name": "stdout",
     "output_type": "stream",
     "text": [
      "(1584, 8100)\n"
     ]
    },
    {
     "name": "stderr",
     "output_type": "stream",
     "text": [
      "C:\\Users\\Arribas\\anaconda3\\envs\\py37aprendizaje\\lib\\site-packages\\sklearn\\utils\\validation.py:72: DataConversionWarning: A column-vector y was passed when a 1d array was expected. Please change the shape of y to (n_samples, ), for example using ravel().\n",
      "  return f(**kwargs)\n",
      "C:\\Users\\Arribas\\anaconda3\\envs\\py37aprendizaje\\lib\\site-packages\\sklearn\\utils\\validation.py:72: DataConversionWarning: A column-vector y was passed when a 1d array was expected. Please change the shape of y to (n_samples, ), for example using ravel().\n",
      "  return f(**kwargs)\n"
     ]
    },
    {
     "data": {
      "text/plain": [
       "GaussianNB()"
      ]
     },
     "execution_count": 81,
     "metadata": {},
     "output_type": "execute_result"
    }
   ],
   "source": [
    "import numpy as np\n",
    "from sklearn.neural_network import MLPClassifier\n",
    "from sklearn import svm\n",
    "from sklearn import tree\n",
    "from sklearn.naive_bayes import GaussianNB\n",
    "\n",
    "import time\n",
    "\n",
    "from skimage.feature import hog\n",
    "\n",
    "# Lee los datos y guárdalos en data\n",
    "data = np.load(\"dataset_detection/train_signs_detection.npy\")\n",
    "Xtrain = data[:, :-1]\n",
    "ytrain = data[:, -1].reshape(-1, 1)\n",
    "print(Xtrain.shape)\n",
    "\n",
    "rn = MLPClassifier(solver='lbfgs', alpha=1e-5, hidden_layer_sizes=(5, 2), random_state=1)\n",
    "rn.fit(Xtrain, ytrain)\n",
    "\n",
    "NB = GaussianNB()\n",
    "NB.fit(Xtrain, ytrain)"
   ]
  },
  {
   "cell_type": "code",
   "execution_count": 89,
   "metadata": {},
   "outputs": [],
   "source": [
    "import imutils\n",
    "import argparse\n",
    "import cv2\n",
    "import time\n",
    "\n",
    "def pyramid(image, scale=1.5, min_size=(30, 30)):\n",
    "    \"\"\"\n",
    "    Genera imágenes sucesivamente más pequeñas con base a los parámetros proporcionados.\n",
    "    :param image: Imagen base.\n",
    "    :param scale: Factor de reducción de cada nivel de la pirámide.\n",
    "    :param min_size: Dimensiones mínimas que debe tener un nivel de la pirámide.\n",
    "    :return: Un nuevo nivel de la pirámide en cada llamada.\n",
    "    \"\"\"\n",
    "    yield image  # El primer de la pirámide será la imagen original.\n",
    "\n",
    "    while True:\n",
    "        # Reducimos el ancho de la imagen con base a `scale`, y luego la\n",
    "        # redimensionamos manteniendo la relación de aspecto.\n",
    "        width = int(image.shape[1] / scale)\n",
    "        image = imutils.resize(image, width=width)\n",
    "\n",
    "        # Si el resultado es una imagen más pequeña de lo esperada, paramos.\n",
    "        if image.shape[0] < min_size[1] or image.shape[1] < min_size[0]:\n",
    "            break\n",
    "\n",
    "        # Retorna el siguiente nivel de la pirámide.\n",
    "        yield image\n",
    "\n",
    "\n",
    "def sliding_window(image, step_size, window_size):\n",
    "    \"\"\"\n",
    "    Genera ventanas de tamaño `window_size` hasta haber recorrido toda la imagen.\n",
    "    :param image: Imagen sobre la cual generar ventanas.\n",
    "    :param step_size: Número de píxeles que nos moveremos en cada dirección.\n",
    "    :param window_size: Dimensiones de la ventana deslizante.\n",
    "    :return: Coordenadas (x, y) de la esquina superior izquierda de la ventana, y la región como tal.\n",
    "    \"\"\"\n",
    "    for x in range(0, image.shape[0], step_size):\n",
    "        for y in range(0, image.shape[1], step_size):\n",
    "            yield x, y, image[x:x + window_size[1], y:y + window_size[0]]"
   ]
  },
  {
   "cell_type": "code",
   "execution_count": 14,
   "metadata": {},
   "outputs": [],
   "source": [
    "# #Test de la pirámide de imágenes\n",
    "\n",
    "# # Leemos la imagen.\n",
    "# image = cv2.imread('Dataset_images/00001.jpg',0)\n",
    "\n",
    "# # Generamos y enumeramos cada nivel de la pirámide.\n",
    "# for index, level in enumerate(pyramid(image, scale=1.5)):\n",
    "#     # Mostramos el nivel actual.\n",
    "#     cv2.imshow(f'Nivel {index + 1}', level)\n",
    "#     print(f'Dimensiones: {level.shape}')\n",
    "#     cv2.waitKey(0)\n",
    "#     cv2.destroyAllWindows()"
   ]
  },
  {
   "cell_type": "code",
   "execution_count": 88,
   "metadata": {},
   "outputs": [
    {
     "name": "stdout",
     "output_type": "stream",
     "text": [
      "Pyramid layer 0\n",
      "Coordenadas ventana recorte: 416 64\n",
      "Acuraccy [[0.03238849 0.96761151]]\n",
      "Coordenadas ventana imagen grande: 416 64\n",
      "Pyramid layer 1\n",
      "Pyramid layer 2\n",
      "Pyramid layer 3\n",
      "Pyramid layer 4\n",
      "Pyramid layer 5\n",
      "Pyramid layer 6\n",
      "Pyramid layer 7\n",
      "[0.52       0.04705882 0.125      0.96761151]\n"
     ]
    }
   ],
   "source": [
    "#Test de la ventana deslizante\n",
    "nAcierto = 0\n",
    "# Cargamos la imagen en memoria.\n",
    "rutaImg = 'Dataset_images/00001.jpg'\n",
    "image = cv2.imread(rutaImg, 0)\n",
    "imagenColor = cv2.imread(rutaImg)\n",
    "#Array de ventanas que han detectado una señal\n",
    "detections = []\n",
    "k = 1\n",
    "tam = 100\n",
    "#Iteramos cada nivel/imagen de la pirámide\n",
    "for index, layer in enumerate(pyramid(image, scale=1.5)):\n",
    "    print('Pyramid layer {}'.format(index))\n",
    "    # ... y en cada uno deslizaremos una ventana con las proporciones especificadas, moviéndonos 32 píxeles a la vez.\n",
    "    for x, y, window in sliding_window(layer, step_size=32, window_size=(tam, tam)):\n",
    "        # Si la ventana actual no cumple con el tamaño deseado, la ignoramos.\n",
    "        \n",
    "        #Hemos añadido una condicion para evitar que prediga fotos de cielo q daban errores\n",
    "        if window.shape == (tam,tam) and np.mean(window) < 230:\n",
    "#             window = cv2.resize(window,(100,100))\n",
    "            acc = clf.predict_proba(hog(cv2.equalizeHist(window)).reshape(1,-1))\n",
    "\n",
    "            if acc[0,1] > 0.9:       \n",
    "                clone = layer.copy()\n",
    "                print('Coordenadas ventana recorte: {} {}'.format(x,y))\n",
    "                print('Acuraccy',acc)\n",
    "#                 cv2.imshow(str(x)+' ', window)\n",
    "                nAcierto += 1\n",
    "                #Guardar % comienzo x, % comienzo y, % píxeles que ocupa la ventana y acc.\n",
    "                detections.append((x/layer.shape[0], y/layer.shape[1], 100/layer.shape[0], acc[0,1]))\n",
    "\n",
    "                print('Coordenadas ventana imagen grande: {} {}'.format(x,y))\n",
    "                cv2.rectangle(clone, (y,x), (y + 100, x + 100), (0, 128, 0), 2)\n",
    "                #cv2.rectangle(clone, (416,64), (416 + 100, 64 + 100), (0, 128, 0), 2)\n",
    "                label = \"{}: {:.2f}%\".format('Sign', acc[0,1] * 100)\n",
    "\n",
    "                label2 = 'Coordenadas -> x: ' + str(y) + ' y: ' + str(x)\n",
    "                y2 = y - 15 if y - 15 > 15 else y + 15\n",
    "                cv2.putText(clone, label, (y2, x), cv2.FONT_HERSHEY_SIMPLEX, 0.5, (0,255,0), 2)\n",
    "                cv2.putText(clone, label2, (150, 150), cv2.FONT_HERSHEY_SIMPLEX, 0.5, (0,0,255), 2)\n",
    "                #k = k + 1\n",
    "            \n",
    "detections = np.array(detections)     \n",
    "clone = imagenColor.copy()\n",
    "\n",
    "for i in range(0,detections.shape[0]):\n",
    "    x = int(detections[i,0]*clone.shape[0]) #Consigo el punto donde comienza la ventana\n",
    "    y = int(detections[i,1]*clone.shape[1])\n",
    "    tamVentana = int(detections[i,2]*clone.shape[0])\n",
    "    precision = detections[i,3]\n",
    "    \n",
    "    #clone = layer.copy()\n",
    "    cv2.rectangle(clone, (y,x), (y + tamVentana, x + tamVentana), (0, 128, 0), 2)\n",
    "    label = \"{}: {:.2f}%\".format('Sign', precision * 100)\n",
    "    y2 = y - 20 if y - 20 > 15 else y + 15\n",
    "    cv2.putText(clone, label, (y2, x), cv2.FONT_HERSHEY_SIMPLEX, 0.5, (0,128,0), 2)\n",
    "    \n",
    "#cv2.imwrite('copiaresultadofinal.jpg', image)\n",
    "\n",
    "cv2.imshow('Ventana', clone) \n",
    "cv2.waitKey(0)\n",
    "cv2.destroyAllWindows()\n",
    "for i in detections:\n",
    "    print(i)"
   ]
  }
 ],
 "metadata": {
  "kernelspec": {
   "display_name": "Python 3",
   "language": "python",
   "name": "python3"
  },
  "language_info": {
   "codemirror_mode": {
    "name": "ipython",
    "version": 3
   },
   "file_extension": ".py",
   "mimetype": "text/x-python",
   "name": "python",
   "nbconvert_exporter": "python",
   "pygments_lexer": "ipython3",
   "version": "3.8.5"
  }
 },
 "nbformat": 4,
 "nbformat_minor": 2
}
