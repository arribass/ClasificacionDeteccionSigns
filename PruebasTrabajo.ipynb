{
 "cells": [
  {
   "cell_type": "markdown",
   "metadata": {},
   "source": [
    "# Pruebas"
   ]
  },
  {
   "cell_type": "code",
   "execution_count": 12,
   "metadata": {},
   "outputs": [],
   "source": [
    "import cv2\n",
    "import numpy as np"
   ]
  },
  {
   "cell_type": "markdown",
   "metadata": {},
   "source": [
    "Amplicacion rango dinamico de imagen "
   ]
  },
  {
   "cell_type": "code",
   "execution_count": 5,
   "metadata": {},
   "outputs": [],
   "source": [
    "def ampliacion_v1(imagen):\n",
    "    #Creamos imagen de salida\n",
    "    #No hace falta crear otra imagen\n",
    "    salida = np.zeros((imagen.shape[0],imagen.shape[1]))\n",
    "    a_low = np.min(imagen)\n",
    "    a_high = np.max(imagen)\n",
    "    filas,columnas = imagen.shape\n",
    "    for i in range(filas):\n",
    "        for j in range(columnas):\n",
    "            #TRANSFORMACION - Ampliacion del rango dinamico\n",
    "            salida[i,j] = ((imagen[i,j]-a_low)*(255-1))/(a_high-a_low)\n",
    "    return np.uint8(salida)"
   ]
  },
  {
   "cell_type": "code",
   "execution_count": 13,
   "metadata": {},
   "outputs": [],
   "source": [
    "imagen = cv2.imread('Dataset_traffic_sign/00006/00002_00029.png',0)\n",
    "imagen = ampliacion_v1(imagen)\n",
    "cv2.imshow('imagen_oscura',imagen)\n",
    "cv2.waitKey(0)\n",
    "cv2.destroyAllWindows()"
   ]
  },
  {
   "cell_type": "markdown",
   "metadata": {},
   "source": [
    "Leer directorios"
   ]
  },
  {
   "cell_type": "code",
   "execution_count": null,
   "metadata": {},
   "outputs": [],
   "source": [
    "import glob\n",
    "\n",
    "def leerCarpeta(carpeta):\n",
    "    \"\"\"\n",
    "    Lee una carpeta de emails\n",
    "    :param carpeta: nombre de la carpeta a leer\n",
    "    :return: lista de emails en la carpeta\n",
    "    \"\"\"\n",
    "    # Establecemos la ruta completa\n",
    "    path = 'datasets/spam/' + carpeta + '/*.txt'   \n",
    "    # Obtenemos la lista de ficheros en la carpeta\n",
    "    files = glob.glob(path)\n",
    "    textos = []\n",
    "    # Para cada fichero, lo leemos y lo añadimos a la lista\n",
    "    for name in files: \n",
    "        with open(name) as f: \n",
    "            textos.append(f.read())\n",
    "\n",
    "    print(\"Leidos \", len(textos), \" emails en \", path)\n",
    "    \n",
    "    return textos"
   ]
  },
  {
   "cell_type": "code",
   "execution_count": 22,
   "metadata": {},
   "outputs": [],
   "source": [
    "import os\n",
    "# l = [i for i in os.listdir('datasets/spam/') if os.path.isdir('datasets/spam/'+i)]"
   ]
  },
  {
   "cell_type": "markdown",
   "metadata": {},
   "source": [
    "Unificar tamaños de imagen\n",
    "Para una sola carpeta en este caso"
   ]
  },
  {
   "cell_type": "code",
   "execution_count": 40,
   "metadata": {},
   "outputs": [
    {
     "name": "stdout",
     "output_type": "stream",
     "text": [
      "['00000_00029.png', '00001_00029.png', '00002_00029.png', '00003_00029.png', '00004_00029.png', '00005_00029.png']\n"
     ]
    }
   ],
   "source": [
    "path = 'Dataset_traffic_sign/00000'\n",
    "lenimages = os.listdir(path)\n",
    "tam = 100\n",
    "print(lenimages)\n",
    "for i in lenimages:\n",
    "    imagen =cv2.imread(path+'/'+i)\n",
    "    imagen = cv2.resize(imagen,(tam,tam))\n",
    "    cv2.imshow(i,imagen)\n",
    "    \n",
    "cv2.waitKey(0)\n",
    "cv2.destroyAllWindows()"
   ]
  },
  {
   "cell_type": "markdown",
   "metadata": {},
   "source": [
    "Usamos hog para extraer las caracteristicas de las imagenes y obtener los CSV \n",
    "\n",
    "Podemos hacer preprocesamiento mas adelante ahora sin el."
   ]
  },
  {
   "cell_type": "code",
   "execution_count": 41,
   "metadata": {},
   "outputs": [
    {
     "ename": "ImportError",
     "evalue": "cannot import name 'hog' from 'cv2' (C:\\ProgramData\\Anaconda3\\envs\\py37vision\\lib\\site-packages\\cv2.cp37-win_amd64.pyd)",
     "output_type": "error",
     "traceback": [
      "\u001b[1;31m---------------------------------------------------------------------------\u001b[0m",
      "\u001b[1;31mImportError\u001b[0m                               Traceback (most recent call last)",
      "\u001b[1;32m<ipython-input-41-ad2882411d73>\u001b[0m in \u001b[0;36m<module>\u001b[1;34m\u001b[0m\n\u001b[1;32m----> 1\u001b[1;33m \u001b[1;32mfrom\u001b[0m \u001b[0mcv2\u001b[0m \u001b[1;32mimport\u001b[0m \u001b[0mhog\u001b[0m\u001b[1;33m\u001b[0m\u001b[1;33m\u001b[0m\u001b[0m\n\u001b[0m",
      "\u001b[1;31mImportError\u001b[0m: cannot import name 'hog' from 'cv2' (C:\\ProgramData\\Anaconda3\\envs\\py37vision\\lib\\site-packages\\cv2.cp37-win_amd64.pyd)"
     ]
    }
   ],
   "source": [
    "from skimage.feature import hog\n",
    "\n",
    "#Extraemos las caracteristicas de todas las imagenes aprox.1200"
   ]
  },
  {
   "cell_type": "markdown",
   "metadata": {},
   "source": [
    "A partir de los CSV obtenidos(1 por cada clase) --> 43 Creamos los diferentes conjuntos de train y test"
   ]
  },
  {
   "cell_type": "markdown",
   "metadata": {},
   "source": []
  }
 ],
 "metadata": {
  "kernelspec": {
   "display_name": "Python [conda env:py37vision] *",
   "language": "python",
   "name": "conda-env-py37vision-py"
  },
  "language_info": {
   "codemirror_mode": {
    "name": "ipython",
    "version": 3
   },
   "file_extension": ".py",
   "mimetype": "text/x-python",
   "name": "python",
   "nbconvert_exporter": "python",
   "pygments_lexer": "ipython3",
   "version": "3.7.4"
  }
 },
 "nbformat": 4,
 "nbformat_minor": 2
}
